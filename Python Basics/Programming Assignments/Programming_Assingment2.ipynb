{
  "nbformat": 4,
  "nbformat_minor": 0,
  "metadata": {
    "colab": {
      "provenance": [],
      "authorship_tag": "ABX9TyMUp+Jr+KYpIWP48825Lgzw",
      "include_colab_link": true
    },
    "kernelspec": {
      "name": "python3",
      "display_name": "Python 3"
    },
    "language_info": {
      "name": "python"
    }
  },
  "cells": [
    {
      "cell_type": "markdown",
      "metadata": {
        "id": "view-in-github",
        "colab_type": "text"
      },
      "source": [
        "<a href=\"https://colab.research.google.com/github/sssure02/iNeuron_DataScience/blob/main/Python%20Basics/Programming%20Assignments/Programming_Assingment2.ipynb\" target=\"_parent\"><img src=\"https://colab.research.google.com/assets/colab-badge.svg\" alt=\"Open In Colab\"/></a>"
      ]
    },
    {
      "cell_type": "markdown",
      "source": [
        "# Programming Assignment #2"
      ],
      "metadata": {
        "id": "jw-Ew0ibyu1-"
      }
    },
    {
      "cell_type": "markdown",
      "source": [
        "1. Write a Python program to convert kilometers to miles?"
      ],
      "metadata": {
        "id": "-DQ6OAVovxi_"
      }
    },
    {
      "cell_type": "code",
      "execution_count": null,
      "metadata": {
        "colab": {
          "base_uri": "https://localhost:8080/"
        },
        "id": "Xr2bX8mcvtdS",
        "outputId": "9cc87efa-b3b0-46b0-bf02-30d88f82ba61"
      },
      "outputs": [
        {
          "output_type": "stream",
          "name": "stdout",
          "text": [
            "Please enter the number of kilometers: 56\n",
            "56.0 kilometers is equal to 34.796776 miles\n"
          ]
        }
      ],
      "source": [
        "def km2mi(a):\n",
        "  b = 0.621371 * a\n",
        "  return b\n",
        "\n",
        "a = float(input(\"Please enter the number of kilometers: \"))\n",
        "print(f\"{a} kilometers is equal to {km2mi(a)} miles\")"
      ]
    },
    {
      "cell_type": "markdown",
      "source": [
        "2. Write a Python program to convert Celsius to Fahrenheit?"
      ],
      "metadata": {
        "id": "Hj9Zp7pyy1Ee"
      }
    },
    {
      "cell_type": "code",
      "source": [
        "def c2F(a):\n",
        "  b = (a * (9/5)) + 32\n",
        "  return b\n",
        "\n",
        "a = float(input(\"Please enter the number of celsius degree: \"))\n",
        "print(f\"{a} ℃ is equal to {c2F(a)} ℉\")"
      ],
      "metadata": {
        "colab": {
          "base_uri": "https://localhost:8080/"
        },
        "id": "YJhns73dy3JN",
        "outputId": "1e1b64dc-ee31-4ec2-9eca-1d8be82e778b"
      },
      "execution_count": 1,
      "outputs": [
        {
          "output_type": "stream",
          "name": "stdout",
          "text": [
            "Please enter the number of celsius degree: 5\n",
            "5.0 ℃ is equal to 41.0 ℉\n"
          ]
        }
      ]
    },
    {
      "cell_type": "markdown",
      "source": [
        "3. Write a Python program to display calendar?"
      ],
      "metadata": {
        "id": "OW8dqcfmy3WN"
      }
    },
    {
      "cell_type": "code",
      "source": [
        "import calendar\n",
        "\n",
        "year = int(input(\"Please enter the year: \"))\n",
        "mon = int(input(\"Please enter the month number: \"))\n",
        "\n",
        "print('\\n',calendar.month(year, mon))"
      ],
      "metadata": {
        "colab": {
          "base_uri": "https://localhost:8080/"
        },
        "id": "elVJBM-2y5Dd",
        "outputId": "52e4a567-c0b4-4e13-e5ac-28b754dad51b"
      },
      "execution_count": 2,
      "outputs": [
        {
          "output_type": "stream",
          "name": "stdout",
          "text": [
            "Please enter the year: 2023\n",
            "Please enter the month number: 1\n",
            "\n",
            "     January 2023\n",
            "Mo Tu We Th Fr Sa Su\n",
            "                   1\n",
            " 2  3  4  5  6  7  8\n",
            " 9 10 11 12 13 14 15\n",
            "16 17 18 19 20 21 22\n",
            "23 24 25 26 27 28 29\n",
            "30 31\n",
            "\n"
          ]
        }
      ]
    },
    {
      "cell_type": "markdown",
      "source": [
        "4. Write a Python program to solve quadratic equation?"
      ],
      "metadata": {
        "id": "iu9ZAZd4y5gN"
      }
    },
    {
      "cell_type": "code",
      "source": [
        "def findx(a,b,c):\n",
        "  if ((b**2) - (4*a*c) < 0):\n",
        "    return \"The quadratic equation has no solution\"\n",
        "  elif ((b**2) - (4*a*c) == 0):\n",
        "    return (-b + (((b**2) - (4*a*c))** 0.5))/ (2*a)\n",
        "  else:\n",
        "    d = (-b + (((b**2) - (4*a*c))** 0.5))/ (2*a)\n",
        "    e = (-b - (((b**2) - (4*a*c))** 0.5))/ (2*a)\n",
        "    return (d,e)\n",
        "\n",
        "print(\"A quadratic equation is in the form of ax^2 + bx + c = 0 \")\n",
        "a = int(input(\"Please enter the value of a: \"))\n",
        "b = int(input(\"Please enter the value of b: \"))\n",
        "c = int(input(\"Please enter the value of c: \"))\n",
        "\n",
        "print(\"Finding x...\")\n",
        "print(findx(a,b,c))\n",
        "\n"
      ],
      "metadata": {
        "colab": {
          "base_uri": "https://localhost:8080/"
        },
        "id": "5YdKj-aSy67I",
        "outputId": "0c5ec7cf-7c6e-4b04-828d-330a4448fb51"
      },
      "execution_count": 4,
      "outputs": [
        {
          "output_type": "stream",
          "name": "stdout",
          "text": [
            "A quadratic equation is in the form of ax^2 + bx + c = 0 \n",
            "Please enter the value of a: 1\n",
            "Please enter the value of b: 12\n",
            "Please enter the value of c: 32\n",
            "Finding x...\n",
            "(-4.0, -8.0)\n"
          ]
        }
      ]
    },
    {
      "cell_type": "markdown",
      "source": [
        "5. Write a Python program to swap two variables without temp variable?"
      ],
      "metadata": {
        "id": "1PS-tuoEy7Ym"
      }
    },
    {
      "cell_type": "code",
      "source": [
        "def swap(a,b):\n",
        "  a,b = b,a\n",
        "  return a, b\n",
        "\n",
        "a = input(\"Enter value of first variable: \")\n",
        "b = input(\"Enter value of second variable: \")\n",
        "\n",
        "print(f\"Before swapping the values of a is {a}, and b is {b}\")\n",
        "a,b = swap(a,b)\n",
        "print(f\"After swapping the values of a is {a}, and b is {b}\")"
      ],
      "metadata": {
        "colab": {
          "base_uri": "https://localhost:8080/"
        },
        "id": "UoBKBocQy73u",
        "outputId": "d75c6e83-be41-41c2-c354-582edefaf1bd"
      },
      "execution_count": null,
      "outputs": [
        {
          "output_type": "stream",
          "name": "stdout",
          "text": [
            "Enter value of first variable: 56\n",
            "Enter value of second variable: hi\n",
            "Before swapping the values of a is 56, and b is hi\n",
            "After swapping the values of a is hi, and b is 56\n"
          ]
        }
      ]
    }
  ]
}