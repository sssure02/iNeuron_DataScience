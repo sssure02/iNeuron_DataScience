{
  "nbformat": 4,
  "nbformat_minor": 0,
  "metadata": {
    "colab": {
      "provenance": [],
      "authorship_tag": "ABX9TyNwOHkdvZrxoCN0COzbIv3E",
      "include_colab_link": true
    },
    "kernelspec": {
      "name": "python3",
      "display_name": "Python 3"
    },
    "language_info": {
      "name": "python"
    }
  },
  "cells": [
    {
      "cell_type": "markdown",
      "metadata": {
        "id": "view-in-github",
        "colab_type": "text"
      },
      "source": [
        "<a href=\"https://colab.research.google.com/github/sssure02/iNeuron_DataScience/blob/main/Python%20Basics/Programming%20Assignments/Programming_Assingment1.ipynb\" target=\"_parent\"><img src=\"https://colab.research.google.com/assets/colab-badge.svg\" alt=\"Open In Colab\"/></a>"
      ]
    },
    {
      "cell_type": "markdown",
      "source": [
        "# Programming Assignment #1"
      ],
      "metadata": {
        "id": "x39DILktv9aC"
      }
    },
    {
      "cell_type": "markdown",
      "source": [
        "1. Write a Python program to print \"Hello Python\"?"
      ],
      "metadata": {
        "id": "sBe-7BD7vcnF"
      }
    },
    {
      "cell_type": "code",
      "execution_count": null,
      "metadata": {
        "colab": {
          "base_uri": "https://localhost:8080/"
        },
        "id": "LiqVJ7DfvXqS",
        "outputId": "d100aa52-6f9d-45ea-df8a-ee2e952361bf"
      },
      "outputs": [
        {
          "output_type": "stream",
          "name": "stdout",
          "text": [
            "Hello Python\n"
          ]
        }
      ],
      "source": [
        "print(\"Hello Python\")"
      ]
    },
    {
      "cell_type": "markdown",
      "source": [
        "2. Write a Python program to do arithmetical operations addition and division ?"
      ],
      "metadata": {
        "id": "cqd5joQUwE9W"
      }
    },
    {
      "cell_type": "code",
      "source": [
        "def arth(a,b):\n",
        "  try:\n",
        "    c = a/b\n",
        "    d = a+b\n",
        "    return f\"The sum of the given numbers is {d} and the division of them is {c} \"\n",
        "  except Exception as e: \n",
        "    return e \n",
        "\n",
        "print(arth(5,6))\n",
        "print(arth(5,0))\n",
        "print(arth(5,'hi'))"
      ],
      "metadata": {
        "colab": {
          "base_uri": "https://localhost:8080/"
        },
        "id": "IrK2g1yfvqul",
        "outputId": "9b10329c-1b58-4e7e-aaa3-d32564b6e191"
      },
      "execution_count": 3,
      "outputs": [
        {
          "output_type": "stream",
          "name": "stdout",
          "text": [
            "The sum of the given numbers is 11 and the division of them is 0.8333333333333334 \n",
            "division by zero\n",
            "unsupported operand type(s) for /: 'int' and 'str'\n"
          ]
        }
      ]
    },
    {
      "cell_type": "markdown",
      "source": [
        "3. Write a Python program to find the area of a triangle?"
      ],
      "metadata": {
        "id": "1F-FiaCtwUou"
      }
    },
    {
      "cell_type": "code",
      "source": [
        "def area(a,b,c):\n",
        "    p = (a+b+c)/2\n",
        "    if p  <= a or p <= b or p <= c:\n",
        "      return \"The sides do not form a triangle\"\n",
        "    else:\n",
        "      return (p*(p-a)*(p-b)*(p-c))**0.5\n",
        "\n",
        "\n",
        "a = float(input(\"Please enter the value of the first side of triangle: \"))\n",
        "b = float(input(\"Please enter the value of the second side of triangle: \"))\n",
        "c = float(input(\"Please enter the value of the third side of triangle: \"))\n",
        "\n",
        "print(area(a,b,c))"
      ],
      "metadata": {
        "colab": {
          "base_uri": "https://localhost:8080/"
        },
        "id": "sa7BbF8DwXlu",
        "outputId": "b6daceb0-a561-4843-98f6-0f29eff0129e"
      },
      "execution_count": 1,
      "outputs": [
        {
          "output_type": "stream",
          "name": "stdout",
          "text": [
            "Please enter the value of the first side of triangle: 3\n",
            "Please enter the value of the second side of triangle: 4\n",
            "Please enter the value of the third side of triangle: 5\n",
            "6.0\n"
          ]
        }
      ]
    },
    {
      "cell_type": "markdown",
      "source": [
        "4. Write a Python program to swap two variables?"
      ],
      "metadata": {
        "id": "HfjJ2uWDwX3f"
      }
    },
    {
      "cell_type": "code",
      "source": [
        "def swap(a,b):\n",
        "  temp = a\n",
        "  a = b\n",
        "  b = temp\n",
        "  return a, b\n",
        "\n",
        "a = input(\"Enter value of first variable: \")\n",
        "b = input(\"Enter value of second variable: \")\n",
        "\n",
        "print(f\"Before swapping the values of a is {a}, and b is {b}\")\n",
        "a,b = swap(a,b)\n",
        "print(f\"After swapping the values of a is {a}, and b is {b}\")"
      ],
      "metadata": {
        "colab": {
          "base_uri": "https://localhost:8080/"
        },
        "id": "YdH41DeXwaV1",
        "outputId": "fa472598-318a-4030-d586-aa1b92ade6e0"
      },
      "execution_count": null,
      "outputs": [
        {
          "output_type": "stream",
          "name": "stdout",
          "text": [
            "Enter value of first variable: 5\n",
            "Enter value of second variable: -2\n",
            "Before swapping the values of a is 5, and b is -2\n",
            "After swapping the values of a is -2, and b is 5\n"
          ]
        }
      ]
    },
    {
      "cell_type": "markdown",
      "source": [
        "5. Write a Python program to generate a random number?"
      ],
      "metadata": {
        "id": "XzTegIl5wak-"
      }
    },
    {
      "cell_type": "code",
      "source": [
        "import numpy as np\n",
        "\n",
        "def gen_randnum():\n",
        "  return np.random.rand()\n",
        "\n",
        "gen_randnum()"
      ],
      "metadata": {
        "colab": {
          "base_uri": "https://localhost:8080/"
        },
        "id": "tYFhZszTwbZW",
        "outputId": "98117d0f-6575-44f5-b119-ecb0aa9aca30"
      },
      "execution_count": null,
      "outputs": [
        {
          "output_type": "execute_result",
          "data": {
            "text/plain": [
              "0.5180036600743937"
            ]
          },
          "metadata": {},
          "execution_count": 15
        }
      ]
    }
  ]
}